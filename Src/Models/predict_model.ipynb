{
 "cells": [
  {
   "cell_type": "code",
   "execution_count": 66,
   "id": "715c23c7-e345-401a-be1c-325c0fa8de90",
   "metadata": {},
   "outputs": [],
   "source": [
    "# Imports\n",
    "import pandas as pd\n",
    "import numpy as np\n",
    "import pickle\n",
    "import joblib\n",
    "\n",
    "from sklearn.preprocessing import StandardScaler\n",
    "from sklearn.ensemble import RandomForestClassifier\n"
   ]
  },
  {
   "cell_type": "code",
   "execution_count": 67,
   "id": "3fd8c8ee-f600-491f-a0b9-381413773d54",
   "metadata": {},
   "outputs": [
    {
     "name": "stdout",
     "output_type": "stream",
     "text": [
      "✅ Model and Scaler loaded successfully!\n"
     ]
    }
   ],
   "source": [
    "#Load model and scaler using full path\n",
    "model_path = r'C:\\Users\\Admin\\Desktop\\INX_Employee_Performance_Project\\models\\saved\\employee_perf_rf_model.pkl'\n",
    "scaler_path = r'C:\\Users\\Admin\\Desktop\\INX_Employee_Performance_Project\\models\\saved\\standard_scaler.pkl'\n",
    "\n",
    "# Load model\n",
    "with open(model_path, 'rb') as file:\n",
    "    model = pickle.load(file)\n",
    "\n",
    "# Load scaler\n",
    "scaler = joblib.load(scaler_path)\n",
    "\n",
    "print(\"✅ Model and Scaler loaded successfully!\")\n"
   ]
  },
  {
   "cell_type": "code",
   "execution_count": 79,
   "id": "8165f9b9-b0ca-478c-b28f-1903a73565f6",
   "metadata": {},
   "outputs": [
    {
     "name": "stdout",
     "output_type": "stream",
     "text": [
      "📌 Model expects: 24 features\n"
     ]
    }
   ],
   "source": [
    "#Define feature columns used during training\n",
    "required_features = [\n",
    "    'Age', 'Attrition', 'BusinessTravelFrequency', 'DistanceFromHome',\n",
    "    'EducationBackground', 'EmpDepartment', 'EmpJobRole',\n",
    "    'EnvironmentSatisfaction', 'Gender', 'JobInvolvement', 'JobLevel',\n",
    "    'JobSatisfaction', 'MaritalStatus', 'MonthlyIncome', 'NumCompaniesWorked',\n",
    "    'OverTime', 'PercentSalaryHike', 'PerformanceRating', 'StockOptionLevel',\n",
    "    'TotalWorkingYears', 'TrainingTimesLastYear', 'WorkLifeBalance',\n",
    "    'YearsAtCompany', 'YearsSinceLastPromotion'\n",
    "]\n",
    "\n",
    "\n",
    "print(\"📌 Model expects:\", len(required_features), \"features\")\n"
   ]
  },
  {
   "cell_type": "code",
   "execution_count": 81,
   "id": "7dc0afc9-ebf5-4a0c-aebd-ff7a7e5982f0",
   "metadata": {},
   "outputs": [
    {
     "name": "stdout",
     "output_type": "stream",
     "text": [
      "🎯 Input Data:\n"
     ]
    },
    {
     "data": {
      "text/html": [
       "<div>\n",
       "<style scoped>\n",
       "    .dataframe tbody tr th:only-of-type {\n",
       "        vertical-align: middle;\n",
       "    }\n",
       "\n",
       "    .dataframe tbody tr th {\n",
       "        vertical-align: top;\n",
       "    }\n",
       "\n",
       "    .dataframe thead th {\n",
       "        text-align: right;\n",
       "    }\n",
       "</style>\n",
       "<table border=\"1\" class=\"dataframe\">\n",
       "  <thead>\n",
       "    <tr style=\"text-align: right;\">\n",
       "      <th></th>\n",
       "      <th>Age</th>\n",
       "      <th>Attrition</th>\n",
       "      <th>BusinessTravelFrequency</th>\n",
       "      <th>DistanceFromHome</th>\n",
       "      <th>EducationBackground</th>\n",
       "      <th>EmpDepartment</th>\n",
       "      <th>EmpJobRole</th>\n",
       "      <th>EnvironmentSatisfaction</th>\n",
       "      <th>Gender</th>\n",
       "      <th>JobInvolvement</th>\n",
       "      <th>...</th>\n",
       "      <th>NumCompaniesWorked</th>\n",
       "      <th>OverTime</th>\n",
       "      <th>PercentSalaryHike</th>\n",
       "      <th>PerformanceRating</th>\n",
       "      <th>StockOptionLevel</th>\n",
       "      <th>TotalWorkingYears</th>\n",
       "      <th>TrainingTimesLastYear</th>\n",
       "      <th>WorkLifeBalance</th>\n",
       "      <th>YearsAtCompany</th>\n",
       "      <th>YearsSinceLastPromotion</th>\n",
       "    </tr>\n",
       "  </thead>\n",
       "  <tbody>\n",
       "    <tr>\n",
       "      <th>0</th>\n",
       "      <td>29</td>\n",
       "      <td>0</td>\n",
       "      <td>1</td>\n",
       "      <td>6</td>\n",
       "      <td>2</td>\n",
       "      <td>1</td>\n",
       "      <td>3</td>\n",
       "      <td>3</td>\n",
       "      <td>1</td>\n",
       "      <td>3</td>\n",
       "      <td>...</td>\n",
       "      <td>1</td>\n",
       "      <td>1</td>\n",
       "      <td>15</td>\n",
       "      <td>1</td>\n",
       "      <td>0</td>\n",
       "      <td>6</td>\n",
       "      <td>2</td>\n",
       "      <td>3</td>\n",
       "      <td>3</td>\n",
       "      <td>1</td>\n",
       "    </tr>\n",
       "  </tbody>\n",
       "</table>\n",
       "<p>1 rows × 24 columns</p>\n",
       "</div>"
      ],
      "text/plain": [
       "   Age  Attrition  BusinessTravelFrequency  DistanceFromHome  \\\n",
       "0   29          0                        1                 6   \n",
       "\n",
       "   EducationBackground  EmpDepartment  EmpJobRole  EnvironmentSatisfaction  \\\n",
       "0                    2              1           3                        3   \n",
       "\n",
       "   Gender  JobInvolvement  ...  NumCompaniesWorked  OverTime  \\\n",
       "0       1               3  ...                   1         1   \n",
       "\n",
       "   PercentSalaryHike  PerformanceRating  StockOptionLevel  TotalWorkingYears  \\\n",
       "0                 15                  1                 0                  6   \n",
       "\n",
       "   TrainingTimesLastYear  WorkLifeBalance  YearsAtCompany  \\\n",
       "0                      2                3               3   \n",
       "\n",
       "   YearsSinceLastPromotion  \n",
       "0                        1  \n",
       "\n",
       "[1 rows x 24 columns]"
      ]
     },
     "metadata": {},
     "output_type": "display_data"
    }
   ],
   "source": [
    "#Provide new input data (encoded already if categorical)\n",
    "# Example: Replace with real data or load from UI/app\n",
    "new_data = pd.DataFrame([{\n",
    "    'Age': 29,\n",
    "    'Attrition': 0,\n",
    "    'BusinessTravelFrequency': 1,\n",
    "    'DistanceFromHome': 6,\n",
    "    'EducationBackground': 2,\n",
    "    'EmpDepartment': 1,\n",
    "    'EmpJobRole': 3,\n",
    "    'EnvironmentSatisfaction': 3,\n",
    "    'Gender': 1,\n",
    "    'JobInvolvement': 3,\n",
    "    'JobLevel': 2,\n",
    "    'JobSatisfaction': 4,\n",
    "    'MaritalStatus': 1,\n",
    "    'MonthlyIncome': 4200,\n",
    "    'NumCompaniesWorked': 1,\n",
    "    'OverTime': 1,\n",
    "    'PercentSalaryHike': 15,\n",
    "    'PerformanceRating': 1,\n",
    "    'StockOptionLevel': 0,\n",
    "    'TotalWorkingYears': 6,\n",
    "    'TrainingTimesLastYear': 2,\n",
    "    'WorkLifeBalance': 3,\n",
    "    'YearsAtCompany': 3,\n",
    "    'YearsSinceLastPromotion': 1\n",
    "}])\n",
    "\n",
    "\n",
    "print(\"🎯 Input Data:\")\n",
    "display(new_data)\n"
   ]
  },
  {
   "cell_type": "code",
   "execution_count": 83,
   "id": "0793d089-2b6c-45ec-9cdd-dc4c1f66aa6d",
   "metadata": {},
   "outputs": [
    {
     "name": "stdout",
     "output_type": "stream",
     "text": [
      "⚠️ Column 'Department' not found in data. Skipping encoding for this column.\n",
      "⚠️ Column 'JobRole' not found in data. Skipping encoding for this column.\n",
      "⚠️ Column 'EducationField' not found in data. Skipping encoding for this column.\n"
     ]
    },
    {
     "data": {
      "text/plain": [
       "['models/saved/label_encoders.pkl']"
      ]
     },
     "execution_count": 83,
     "metadata": {},
     "output_type": "execute_result"
    }
   ],
   "source": [
    "#Preprocess and Predict\n",
    "from sklearn.preprocessing import LabelEncoder\n",
    "encoders = {}\n",
    "\n",
    "for col in categorical_columns:\n",
    "    if col in df.columns:\n",
    "        le = LabelEncoder()\n",
    "        df[col] = le.fit_transform(df[col])\n",
    "        encoders[col] = le\n",
    "    else:\n",
    "        print(f\"⚠️ Column '{col}' not found in data. Skipping encoding for this column.\")\n",
    "\n",
    "# Save encoders\n",
    "joblib.dump(encoders, 'models/saved/label_encoders.pkl')\n"
   ]
  },
  {
   "cell_type": "code",
   "execution_count": 85,
   "id": "d9dc5266-5e2f-4bcc-951a-972ad4f26804",
   "metadata": {},
   "outputs": [
    {
     "name": "stdout",
     "output_type": "stream",
     "text": [
      "Loaded with joblib successfully\n"
     ]
    }
   ],
   "source": [
    "try:\n",
    "    encoders = joblib.load(\"models/saved/label_encoders.pkl\")\n",
    "    print(\"Loaded with joblib successfully\")\n",
    "except Exception as e:\n",
    "    print(\"Joblib load failed:\", e)\n"
   ]
  },
  {
   "cell_type": "code",
   "execution_count": 87,
   "id": "12d5867d-fe76-4039-a464-6b41bc740de4",
   "metadata": {},
   "outputs": [],
   "source": [
    "for col in categorical_columns:\n",
    "    if col in new_data.columns:\n",
    "        le = encoders.get(col)\n",
    "        if le is not None:\n",
    "            new_data.loc[:, col] = new_data[col].map(lambda x: le.transform([x])[0] if x in le.classes_ else -1)\n"
   ]
  },
  {
   "cell_type": "code",
   "execution_count": 89,
   "id": "9048a9c8-f200-447e-85bc-43d813d1f579",
   "metadata": {},
   "outputs": [],
   "source": [
    "model = joblib.load(r'C:\\Users\\Admin\\Desktop\\INX_Employee_Performance_Project\\models\\saved\\employee_perf_rf_model.pkl')\n"
   ]
  },
  {
   "cell_type": "code",
   "execution_count": 91,
   "id": "f8d437bf-d058-40a6-a53e-d133b22c5a17",
   "metadata": {},
   "outputs": [
    {
     "name": "stdout",
     "output_type": "stream",
     "text": [
      "['Age', 'Attrition', 'BusinessTravelFrequency', 'DistanceFromHome', 'EducationBackground', 'EmpDepartment', 'EmpJobRole', 'EnvironmentSatisfaction', 'Gender', 'JobInvolvement', 'JobLevel', 'JobSatisfaction', 'MaritalStatus', 'MonthlyIncome', 'NumCompaniesWorked', 'OverTime', 'PercentSalaryHike', 'PerformanceRating', 'StockOptionLevel', 'TotalWorkingYears', 'TrainingTimesLastYear', 'WorkLifeBalance', 'YearsAtCompany', 'YearsSinceLastPromotion']\n"
     ]
    }
   ],
   "source": [
    "print(new_data.columns.tolist())"
   ]
  },
  {
   "cell_type": "code",
   "execution_count": 101,
   "id": "bdb4094d-d5ac-4387-878f-82d1d8313e99",
   "metadata": {},
   "outputs": [
    {
     "name": "stdout",
     "output_type": "stream",
     "text": [
      "🎯 Predicted Performance Rating: 3\n",
      "📊 Prediction Probabilities: [0.09372553 0.78072441 0.12555006]\n"
     ]
    }
   ],
   "source": [
    "# Make a copy to avoid SettingWithCopyWarning\n",
    "new_data_renamed_copy = new_data_renamed.copy()\n",
    "\n",
    "# Add missing columns with default 0 if they don't exist\n",
    "for col in expected_cols:\n",
    "    if col not in new_data_renamed_copy.columns:\n",
    "        new_data_renamed_copy[col] = 0  # or suitable default\n",
    "\n",
    "# Now select and reorder columns exactly\n",
    "new_data_for_scaler = new_data_renamed_copy[expected_cols]\n",
    "\n",
    "# Scale and predict\n",
    "input_scaled = scaler.transform(new_data_for_scaler)\n",
    "input_df = pd.DataFrame(input_scaled, columns=expected_cols)\n",
    "\n",
    "prediction = model.predict(input_df)\n",
    "prediction_proba = model.predict_proba(input_df)\n",
    "\n",
    "print(\"🎯 Predicted Performance Rating:\", prediction[0])\n",
    "print(\"📊 Prediction Probabilities:\", prediction_proba[0])\n"
   ]
  },
  {
   "cell_type": "code",
   "execution_count": 103,
   "id": "0091357e-85cc-4ab7-b634-13982b24324f",
   "metadata": {},
   "outputs": [
    {
     "name": "stdout",
     "output_type": "stream",
     "text": [
      "🔍 Predicted Class Label: Excellent\n"
     ]
    }
   ],
   "source": [
    "# e.g., {'Poor': 0, 'Average': 1, 'Good': 2}\n",
    "label_map = {\n",
    "    0: 'Poor',\n",
    "    1: 'Average',\n",
    "    2: 'Good',\n",
    "    3: 'Excellent'  # or appropriate label\n",
    "}\n",
    "\n",
    "print(\"🔍 Predicted Class Label:\", label_map.get(prediction[0], \"Unknown\"))\n",
    "\n"
   ]
  },
  {
   "cell_type": "code",
   "execution_count": null,
   "id": "3c3c9f01-91c3-4a69-9890-82f78b914a85",
   "metadata": {},
   "outputs": [],
   "source": []
  }
 ],
 "metadata": {
  "kernelspec": {
   "display_name": "Python 3 (ipykernel)",
   "language": "python",
   "name": "python3"
  },
  "language_info": {
   "codemirror_mode": {
    "name": "ipython",
    "version": 3
   },
   "file_extension": ".py",
   "mimetype": "text/x-python",
   "name": "python",
   "nbconvert_exporter": "python",
   "pygments_lexer": "ipython3",
   "version": "3.12.7"
  }
 },
 "nbformat": 4,
 "nbformat_minor": 5
}
